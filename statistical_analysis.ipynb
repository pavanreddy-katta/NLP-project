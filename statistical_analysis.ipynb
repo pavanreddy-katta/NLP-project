{
 "cells": [
  {
   "cell_type": "code",
   "execution_count": 1,
   "id": "9f2dbe6a",
   "metadata": {},
   "outputs": [],
   "source": [
    "import pandas as pd\n",
    "import numpy as np\n",
    "\n",
    "from scipy.stats import scoreatpercentile"
   ]
  },
  {
   "cell_type": "code",
   "execution_count": 2,
   "id": "8639f257",
   "metadata": {},
   "outputs": [],
   "source": [
    "df = pd.read_csv('/scratch/smanduru/NLP/project/data/amazon_512/amazon-books-512-train.tsv', sep = '\\t', header=0)"
   ]
  },
  {
   "cell_type": "code",
   "execution_count": 3,
   "id": "d5027ed7",
   "metadata": {},
   "outputs": [],
   "source": [
    "df['review'] = df['headline'].str.cat(df['text'], sep=' ')"
   ]
  },
  {
   "cell_type": "code",
   "execution_count": null,
   "id": "91319eeb",
   "metadata": {},
   "outputs": [],
   "source": [
    "df['sentence_length'] = df['review'].apply(lambda x: len(x.split()))"
   ]
  },
  {
   "cell_type": "code",
   "execution_count": null,
   "id": "fc91dacc",
   "metadata": {},
   "outputs": [],
   "source": [
    "sentence_lengths = df['sentence_length']\n",
    "\n",
    "# Max\n",
    "max_length = np.max(sentence_lengths)\n",
    "\n",
    "# Min\n",
    "min_length = np.min(sentence_lengths)\n",
    "\n",
    "# Median\n",
    "median_length = np.median(sentence_lengths)\n",
    "\n",
    "# 95th percentile\n",
    "percentile_95 = scoreatpercentile(sentence_lengths, 95)\n",
    "\n",
    "# Mean\n",
    "mean_length = np.mean(sentence_lengths)\n",
    "\n",
    "# Print results\n",
    "print(\"Max Sentence Length:\", max_length)\n",
    "print(\"Min Sentence Length:\", min_length)\n",
    "print(\"Median Sentence Length:\", median_length)\n",
    "print(\"95th Percentile of Sentence Length:\", percentile_95)\n",
    "print(\"Mean Sentence Length:\", mean_length)"
   ]
  },
  {
   "cell_type": "code",
   "execution_count": null,
   "id": "d5749356",
   "metadata": {},
   "outputs": [],
   "source": []
  }
 ],
 "metadata": {
  "kernelspec": {
   "display_name": "Python 3 (ORC)",
   "language": "python",
   "name": "sys_python3"
  },
  "language_info": {
   "codemirror_mode": {
    "name": "ipython",
    "version": 3
   },
   "file_extension": ".py",
   "mimetype": "text/x-python",
   "name": "python",
   "nbconvert_exporter": "python",
   "pygments_lexer": "ipython3",
   "version": "3.9.9"
  }
 },
 "nbformat": 4,
 "nbformat_minor": 5
}
