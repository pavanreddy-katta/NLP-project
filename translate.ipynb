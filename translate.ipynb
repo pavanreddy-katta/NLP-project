{
 "cells": [
  {
   "cell_type": "code",
   "execution_count": 1,
   "id": "76c85d55",
   "metadata": {
    "scrolled": true
   },
   "outputs": [
    {
     "name": "stdout",
     "output_type": "stream",
     "text": [
      "Defaulting to user installation because normal site-packages is not writeable\n",
      "\u001b[33mWARNING: Ignoring invalid distribution -rotobuf (/home/smanduru/.local/lib/python3.9/site-packages)\u001b[0m\u001b[33m\n",
      "\u001b[0m\u001b[33mWARNING: Ignoring invalid distribution -rotobuf (/home/smanduru/.local/lib/python3.9/site-packages)\u001b[0m\u001b[33m\n",
      "\u001b[0mRequirement already satisfied: googletrans==3.1.0a0 in /home/smanduru/.local/lib/python3.9/site-packages (3.1.0a0)\n",
      "Requirement already satisfied: httpx==0.13.3 in /home/smanduru/.local/lib/python3.9/site-packages (from googletrans==3.1.0a0) (0.13.3)\n",
      "Requirement already satisfied: certifi in /opt/sw/spack/apps/linux-rhel8-x86_64_v2/gcc-10.3.0/python-3.9.9-jh/lib/python3.9/site-packages (from httpx==0.13.3->googletrans==3.1.0a0) (2021.10.8)\n",
      "Requirement already satisfied: hstspreload in /home/smanduru/.local/lib/python3.9/site-packages (from httpx==0.13.3->googletrans==3.1.0a0) (2023.1.1)\n",
      "Requirement already satisfied: sniffio in /opt/sw/spack/apps/linux-rhel8-x86_64_v2/gcc-10.3.0/python-3.9.9-jh/lib/python3.9/site-packages (from httpx==0.13.3->googletrans==3.1.0a0) (1.2.0)\n",
      "Requirement already satisfied: chardet==3.* in /home/smanduru/.local/lib/python3.9/site-packages (from httpx==0.13.3->googletrans==3.1.0a0) (3.0.4)\n",
      "Requirement already satisfied: idna==2.* in /home/smanduru/.local/lib/python3.9/site-packages (from httpx==0.13.3->googletrans==3.1.0a0) (2.10)\n",
      "Requirement already satisfied: rfc3986<2,>=1.3 in /home/smanduru/.local/lib/python3.9/site-packages (from httpx==0.13.3->googletrans==3.1.0a0) (1.5.0)\n",
      "Requirement already satisfied: httpcore==0.9.* in /home/smanduru/.local/lib/python3.9/site-packages (from httpx==0.13.3->googletrans==3.1.0a0) (0.9.1)\n",
      "Requirement already satisfied: h11<0.10,>=0.8 in /home/smanduru/.local/lib/python3.9/site-packages (from httpcore==0.9.*->httpx==0.13.3->googletrans==3.1.0a0) (0.9.0)\n",
      "Requirement already satisfied: h2==3.* in /home/smanduru/.local/lib/python3.9/site-packages (from httpcore==0.9.*->httpx==0.13.3->googletrans==3.1.0a0) (3.2.0)\n",
      "Requirement already satisfied: hyperframe<6,>=5.2.0 in /home/smanduru/.local/lib/python3.9/site-packages (from h2==3.*->httpcore==0.9.*->httpx==0.13.3->googletrans==3.1.0a0) (5.2.0)\n",
      "Requirement already satisfied: hpack<4,>=3.0 in /home/smanduru/.local/lib/python3.9/site-packages (from h2==3.*->httpcore==0.9.*->httpx==0.13.3->googletrans==3.1.0a0) (3.0.0)\n",
      "\u001b[33mWARNING: Ignoring invalid distribution -rotobuf (/home/smanduru/.local/lib/python3.9/site-packages)\u001b[0m\u001b[33m\n",
      "\u001b[0m\u001b[33mWARNING: Ignoring invalid distribution -rotobuf (/home/smanduru/.local/lib/python3.9/site-packages)\u001b[0m\u001b[33m\n",
      "\u001b[0m\n",
      "\u001b[1m[\u001b[0m\u001b[34;49mnotice\u001b[0m\u001b[1;39;49m]\u001b[0m\u001b[39;49m A new release of pip is available: \u001b[0m\u001b[31;49m23.1.2\u001b[0m\u001b[39;49m -> \u001b[0m\u001b[32;49m23.3.1\u001b[0m\n",
      "\u001b[1m[\u001b[0m\u001b[34;49mnotice\u001b[0m\u001b[1;39;49m]\u001b[0m\u001b[39;49m To update, run: \u001b[0m\u001b[32;49mpip install --upgrade pip\u001b[0m\n"
     ]
    }
   ],
   "source": [
    "!pip install googletrans==3.1.0a0"
   ]
  },
  {
   "cell_type": "code",
   "execution_count": 2,
   "id": "790b6303",
   "metadata": {},
   "outputs": [],
   "source": [
    "import googletrans\n",
    "from googletrans import Translator\n",
    "\n",
    "import pandas as pd\n",
    "import numpy as np\n",
    "\n",
    "import re"
   ]
  },
  {
   "cell_type": "code",
   "execution_count": 3,
   "id": "90376103",
   "metadata": {},
   "outputs": [],
   "source": [
    "df = pd.read_csv(\"/scratch/smanduru/NLP/project/data/amazon_2048/amazon-books-2048-dev.tsv\",\n",
    "                 sep = '\\t', header=0)"
   ]
  },
  {
   "cell_type": "code",
   "execution_count": 4,
   "id": "2fafafc6",
   "metadata": {},
   "outputs": [],
   "source": [
    "df['review'] = df['headline'].str.cat(df['text'], sep=' ')"
   ]
  },
  {
   "cell_type": "code",
   "execution_count": 5,
   "id": "8b4ae316",
   "metadata": {},
   "outputs": [],
   "source": [
    "df = df [['review', 'label']]"
   ]
  },
  {
   "cell_type": "code",
   "execution_count": 6,
   "id": "fd1ca35f",
   "metadata": {},
   "outputs": [],
   "source": [
    "def clean(sentence):\n",
    "    cleaned_sentence = re.sub(r'[^a-zA-Z0-9\\s]', ' ', sentence)\n",
    "    cleaned_sentence = re.sub(r'\\s+', ' ', cleaned_sentence).strip()\n",
    "    return cleaned_sentence.lower()"
   ]
  },
  {
   "cell_type": "code",
   "execution_count": 7,
   "id": "8b16be0d",
   "metadata": {},
   "outputs": [],
   "source": [
    "df['review'] = df['review'].apply(clean)"
   ]
  },
  {
   "cell_type": "code",
   "execution_count": 8,
   "id": "44e7bf82",
   "metadata": {},
   "outputs": [
    {
     "data": {
      "text/html": [
       "<div>\n",
       "<style scoped>\n",
       "    .dataframe tbody tr th:only-of-type {\n",
       "        vertical-align: middle;\n",
       "    }\n",
       "\n",
       "    .dataframe tbody tr th {\n",
       "        vertical-align: top;\n",
       "    }\n",
       "\n",
       "    .dataframe thead th {\n",
       "        text-align: right;\n",
       "    }\n",
       "</style>\n",
       "<table border=\"1\" class=\"dataframe\">\n",
       "  <thead>\n",
       "    <tr style=\"text-align: right;\">\n",
       "      <th></th>\n",
       "      <th>review</th>\n",
       "      <th>label</th>\n",
       "    </tr>\n",
       "  </thead>\n",
       "  <tbody>\n",
       "    <tr>\n",
       "      <th>0</th>\n",
       "      <td>entertaining fringe ravings one false claim af...</td>\n",
       "      <td>0</td>\n",
       "    </tr>\n",
       "    <tr>\n",
       "      <th>1</th>\n",
       "      <td>the enzyme treatment of cancer and its scienti...</td>\n",
       "      <td>4</td>\n",
       "    </tr>\n",
       "    <tr>\n",
       "      <th>2</th>\n",
       "      <td>a book that exudes passion for the gospel what...</td>\n",
       "      <td>4</td>\n",
       "    </tr>\n",
       "    <tr>\n",
       "      <th>3</th>\n",
       "      <td>carnism the psychology of meat eating recently...</td>\n",
       "      <td>3</td>\n",
       "    </tr>\n",
       "    <tr>\n",
       "      <th>4</th>\n",
       "      <td>incomplete not scientific not ready for the ho...</td>\n",
       "      <td>2</td>\n",
       "    </tr>\n",
       "    <tr>\n",
       "      <th>...</th>\n",
       "      <td>...</td>\n",
       "      <td>...</td>\n",
       "    </tr>\n",
       "    <tr>\n",
       "      <th>995</th>\n",
       "      <td>yoga is nowhere to be found in this cd set i a...</td>\n",
       "      <td>0</td>\n",
       "    </tr>\n",
       "    <tr>\n",
       "      <th>996</th>\n",
       "      <td>gospel centered contentment some people love a...</td>\n",
       "      <td>3</td>\n",
       "    </tr>\n",
       "    <tr>\n",
       "      <th>997</th>\n",
       "      <td>great at telling us what not to do poor at tel...</td>\n",
       "      <td>3</td>\n",
       "    </tr>\n",
       "    <tr>\n",
       "      <th>998</th>\n",
       "      <td>verses from an exceptional person an extraordi...</td>\n",
       "      <td>4</td>\n",
       "    </tr>\n",
       "    <tr>\n",
       "      <th>999</th>\n",
       "      <td>dark masterpiece joseph conrad s most famous w...</td>\n",
       "      <td>4</td>\n",
       "    </tr>\n",
       "  </tbody>\n",
       "</table>\n",
       "<p>1000 rows × 2 columns</p>\n",
       "</div>"
      ],
      "text/plain": [
       "                                                review  label\n",
       "0    entertaining fringe ravings one false claim af...      0\n",
       "1    the enzyme treatment of cancer and its scienti...      4\n",
       "2    a book that exudes passion for the gospel what...      4\n",
       "3    carnism the psychology of meat eating recently...      3\n",
       "4    incomplete not scientific not ready for the ho...      2\n",
       "..                                                 ...    ...\n",
       "995  yoga is nowhere to be found in this cd set i a...      0\n",
       "996  gospel centered contentment some people love a...      3\n",
       "997  great at telling us what not to do poor at tel...      3\n",
       "998  verses from an exceptional person an extraordi...      4\n",
       "999  dark masterpiece joseph conrad s most famous w...      4\n",
       "\n",
       "[1000 rows x 2 columns]"
      ]
     },
     "execution_count": 8,
     "metadata": {},
     "output_type": "execute_result"
    }
   ],
   "source": [
    "df"
   ]
  },
  {
   "cell_type": "code",
   "execution_count": 9,
   "id": "8c7b8aaf",
   "metadata": {},
   "outputs": [],
   "source": [
    "sentences = df['review'].values.tolist()"
   ]
  },
  {
   "cell_type": "code",
   "execution_count": 10,
   "id": "e2d393c4",
   "metadata": {},
   "outputs": [],
   "source": [
    "translator = Translator()"
   ]
  },
  {
   "cell_type": "code",
   "execution_count": 11,
   "id": "b04b68ec",
   "metadata": {},
   "outputs": [
    {
     "name": "stdout",
     "output_type": "stream",
     "text": [
      "{'af': 'afrikaans', 'sq': 'albanian', 'am': 'amharic', 'ar': 'arabic', 'hy': 'armenian', 'az': 'azerbaijani', 'eu': 'basque', 'be': 'belarusian', 'bn': 'bengali', 'bs': 'bosnian', 'bg': 'bulgarian', 'ca': 'catalan', 'ceb': 'cebuano', 'ny': 'chichewa', 'zh-cn': 'chinese (simplified)', 'zh-tw': 'chinese (traditional)', 'co': 'corsican', 'hr': 'croatian', 'cs': 'czech', 'da': 'danish', 'nl': 'dutch', 'en': 'english', 'eo': 'esperanto', 'et': 'estonian', 'tl': 'filipino', 'fi': 'finnish', 'fr': 'french', 'fy': 'frisian', 'gl': 'galician', 'ka': 'georgian', 'de': 'german', 'el': 'greek', 'gu': 'gujarati', 'ht': 'haitian creole', 'ha': 'hausa', 'haw': 'hawaiian', 'iw': 'hebrew', 'he': 'hebrew', 'hi': 'hindi', 'hmn': 'hmong', 'hu': 'hungarian', 'is': 'icelandic', 'ig': 'igbo', 'id': 'indonesian', 'ga': 'irish', 'it': 'italian', 'ja': 'japanese', 'jw': 'javanese', 'kn': 'kannada', 'kk': 'kazakh', 'km': 'khmer', 'ko': 'korean', 'ku': 'kurdish (kurmanji)', 'ky': 'kyrgyz', 'lo': 'lao', 'la': 'latin', 'lv': 'latvian', 'lt': 'lithuanian', 'lb': 'luxembourgish', 'mk': 'macedonian', 'mg': 'malagasy', 'ms': 'malay', 'ml': 'malayalam', 'mt': 'maltese', 'mi': 'maori', 'mr': 'marathi', 'mn': 'mongolian', 'my': 'myanmar (burmese)', 'ne': 'nepali', 'no': 'norwegian', 'or': 'odia', 'ps': 'pashto', 'fa': 'persian', 'pl': 'polish', 'pt': 'portuguese', 'pa': 'punjabi', 'ro': 'romanian', 'ru': 'russian', 'sm': 'samoan', 'gd': 'scots gaelic', 'sr': 'serbian', 'st': 'sesotho', 'sn': 'shona', 'sd': 'sindhi', 'si': 'sinhala', 'sk': 'slovak', 'sl': 'slovenian', 'so': 'somali', 'es': 'spanish', 'su': 'sundanese', 'sw': 'swahili', 'sv': 'swedish', 'tg': 'tajik', 'ta': 'tamil', 'te': 'telugu', 'th': 'thai', 'tr': 'turkish', 'uk': 'ukrainian', 'ur': 'urdu', 'ug': 'uyghur', 'uz': 'uzbek', 'vi': 'vietnamese', 'cy': 'welsh', 'xh': 'xhosa', 'yi': 'yiddish', 'yo': 'yoruba', 'zu': 'zulu'}\n"
     ]
    }
   ],
   "source": [
    "print(googletrans.LANGUAGES)"
   ]
  },
  {
   "cell_type": "code",
   "execution_count": 12,
   "id": "39df24c4",
   "metadata": {},
   "outputs": [
    {
     "name": "stdout",
     "output_type": "stream",
     "text": [
      "Last run at index 0\n",
      "Last run at index 100\n",
      "Last run at index 200\n",
      "Last run at index 300\n",
      "Last run at index 400\n",
      "Last run at index 500\n",
      "Last run at index 600\n",
      "Last run at index 700\n",
      "Last run at index 800\n",
      "Last run at index 900\n"
     ]
    }
   ],
   "source": [
    "new_df = pd.DataFrame(columns = ['review', 'language', 'label'])\n",
    "for index, row in df.iterrows():\n",
    "    output = translator.translate(row['review'], src='en', dest='te')\n",
    "    df2 = pd.DataFrame({'review' : output.text,\n",
    "                       'language' : 'TE',\n",
    "                       'label' : row['label']\n",
    "                       }, index = [0])\n",
    "    new_df = new_df.append(df2, ignore_index = True)\n",
    "    if index % 100 == 0:\n",
    "        print(\"Last run at index\", index)"
   ]
  },
  {
   "cell_type": "code",
   "execution_count": 13,
   "id": "afea03b7",
   "metadata": {},
   "outputs": [
    {
     "data": {
      "text/html": [
       "<div>\n",
       "<style scoped>\n",
       "    .dataframe tbody tr th:only-of-type {\n",
       "        vertical-align: middle;\n",
       "    }\n",
       "\n",
       "    .dataframe tbody tr th {\n",
       "        vertical-align: top;\n",
       "    }\n",
       "\n",
       "    .dataframe thead th {\n",
       "        text-align: right;\n",
       "    }\n",
       "</style>\n",
       "<table border=\"1\" class=\"dataframe\">\n",
       "  <thead>\n",
       "    <tr style=\"text-align: right;\">\n",
       "      <th></th>\n",
       "      <th>review</th>\n",
       "      <th>language</th>\n",
       "      <th>label</th>\n",
       "    </tr>\n",
       "  </thead>\n",
       "  <tbody>\n",
       "    <tr>\n",
       "      <th>0</th>\n",
       "      <td>గొప్ప సైన్స్ ఫిక్షన్ రచయిత ఫిలిప్ కె డిక్ కొన్...</td>\n",
       "      <td>TE</td>\n",
       "      <td>0</td>\n",
       "    </tr>\n",
       "    <tr>\n",
       "      <th>1</th>\n",
       "      <td>the enzyme treatment of cancer and its scienti...</td>\n",
       "      <td>TE</td>\n",
       "      <td>4</td>\n",
       "    </tr>\n",
       "    <tr>\n",
       "      <th>2</th>\n",
       "      <td>సువార్త పట్ల మక్కువను వెదజల్లుతున్న పుస్తకం, అ...</td>\n",
       "      <td>TE</td>\n",
       "      <td>4</td>\n",
       "    </tr>\n",
       "    <tr>\n",
       "      <th>3</th>\n",
       "      <td>మాంసాహారం యొక్క మనస్తత్వశాస్త్రం ఇటీవలి కాలంలో...</td>\n",
       "      <td>TE</td>\n",
       "      <td>3</td>\n",
       "    </tr>\n",
       "    <tr>\n",
       "      <th>4</th>\n",
       "      <td>incomplete not scientific not ready for the ho...</td>\n",
       "      <td>TE</td>\n",
       "      <td>2</td>\n",
       "    </tr>\n",
       "    <tr>\n",
       "      <th>...</th>\n",
       "      <td>...</td>\n",
       "      <td>...</td>\n",
       "      <td>...</td>\n",
       "    </tr>\n",
       "    <tr>\n",
       "      <th>995</th>\n",
       "      <td>యోగా ఈ సిడి సెట్‌లో ఎక్కడా కనిపించదు, యోగా మాత...</td>\n",
       "      <td>TE</td>\n",
       "      <td>0</td>\n",
       "    </tr>\n",
       "    <tr>\n",
       "      <th>996</th>\n",
       "      <td>సువార్త కేంద్రీకృత తృప్తి కొంతమంది వ్యక్తులు మ...</td>\n",
       "      <td>TE</td>\n",
       "      <td>3</td>\n",
       "    </tr>\n",
       "    <tr>\n",
       "      <th>997</th>\n",
       "      <td>మాకు ఏమి చేయకూడదని చెప్పడంలో పేలవంగా చెప్పటంలో...</td>\n",
       "      <td>TE</td>\n",
       "      <td>3</td>\n",
       "    </tr>\n",
       "    <tr>\n",
       "      <th>998</th>\n",
       "      <td>నజీమ్ హిక్మెత్ వంటి అసాధారణ కవి నుండి వచ్చిన ప...</td>\n",
       "      <td>TE</td>\n",
       "      <td>4</td>\n",
       "    </tr>\n",
       "    <tr>\n",
       "      <th>999</th>\n",
       "      <td>డార్క్ మాస్టర్ పీస్ జోసెఫ్ కాన్రాడ్ యొక్క అత్య...</td>\n",
       "      <td>TE</td>\n",
       "      <td>4</td>\n",
       "    </tr>\n",
       "  </tbody>\n",
       "</table>\n",
       "<p>1000 rows × 3 columns</p>\n",
       "</div>"
      ],
      "text/plain": [
       "                                                review language label\n",
       "0    గొప్ప సైన్స్ ఫిక్షన్ రచయిత ఫిలిప్ కె డిక్ కొన్...       TE     0\n",
       "1    the enzyme treatment of cancer and its scienti...       TE     4\n",
       "2    సువార్త పట్ల మక్కువను వెదజల్లుతున్న పుస్తకం, అ...       TE     4\n",
       "3    మాంసాహారం యొక్క మనస్తత్వశాస్త్రం ఇటీవలి కాలంలో...       TE     3\n",
       "4    incomplete not scientific not ready for the ho...       TE     2\n",
       "..                                                 ...      ...   ...\n",
       "995  యోగా ఈ సిడి సెట్‌లో ఎక్కడా కనిపించదు, యోగా మాత...       TE     0\n",
       "996  సువార్త కేంద్రీకృత తృప్తి కొంతమంది వ్యక్తులు మ...       TE     3\n",
       "997  మాకు ఏమి చేయకూడదని చెప్పడంలో పేలవంగా చెప్పటంలో...       TE     3\n",
       "998  నజీమ్ హిక్మెత్ వంటి అసాధారణ కవి నుండి వచ్చిన ప...       TE     4\n",
       "999  డార్క్ మాస్టర్ పీస్ జోసెఫ్ కాన్రాడ్ యొక్క అత్య...       TE     4\n",
       "\n",
       "[1000 rows x 3 columns]"
      ]
     },
     "execution_count": 13,
     "metadata": {},
     "output_type": "execute_result"
    }
   ],
   "source": [
    "new_df"
   ]
  },
  {
   "cell_type": "code",
   "execution_count": 14,
   "id": "e7233bb1",
   "metadata": {},
   "outputs": [],
   "source": [
    "# new_df.loc[7996, 'review']"
   ]
  },
  {
   "cell_type": "code",
   "execution_count": 15,
   "id": "e4af2805",
   "metadata": {},
   "outputs": [],
   "source": [
    "# new_df.to_csv('/scratch/smanduru/NLP/project/data/amazon_2048/2048_multi_dev.tsv', sep = '\\t', index=False)"
   ]
  },
  {
   "cell_type": "code",
   "execution_count": 16,
   "id": "c2c88e1c",
   "metadata": {},
   "outputs": [],
   "source": [
    "tdf = pd.read_csv(\"/scratch/smanduru/NLP/project/data/amazon_2048/2048_multi_dev.tsv\",\n",
    "                 sep = '\\t', header=0)"
   ]
  },
  {
   "cell_type": "code",
   "execution_count": 17,
   "id": "246026f6",
   "metadata": {},
   "outputs": [],
   "source": [
    "tdf = tdf.append(new_df, ignore_index = True)"
   ]
  },
  {
   "cell_type": "code",
   "execution_count": 18,
   "id": "b1c7fba2",
   "metadata": {},
   "outputs": [
    {
     "data": {
      "text/html": [
       "<div>\n",
       "<style scoped>\n",
       "    .dataframe tbody tr th:only-of-type {\n",
       "        vertical-align: middle;\n",
       "    }\n",
       "\n",
       "    .dataframe tbody tr th {\n",
       "        vertical-align: top;\n",
       "    }\n",
       "\n",
       "    .dataframe thead th {\n",
       "        text-align: right;\n",
       "    }\n",
       "</style>\n",
       "<table border=\"1\" class=\"dataframe\">\n",
       "  <thead>\n",
       "    <tr style=\"text-align: right;\">\n",
       "      <th></th>\n",
       "      <th>review</th>\n",
       "      <th>language</th>\n",
       "      <th>label</th>\n",
       "    </tr>\n",
       "  </thead>\n",
       "  <tbody>\n",
       "    <tr>\n",
       "      <th>0</th>\n",
       "      <td>divertenti deliri marginali, una falsa afferma...</td>\n",
       "      <td>IT</td>\n",
       "      <td>0</td>\n",
       "    </tr>\n",
       "    <tr>\n",
       "      <th>1</th>\n",
       "      <td>the enzyme treatment of cancer and its scienti...</td>\n",
       "      <td>IT</td>\n",
       "      <td>4</td>\n",
       "    </tr>\n",
       "    <tr>\n",
       "      <th>2</th>\n",
       "      <td>un libro che trasuda passione per il Vangelo q...</td>\n",
       "      <td>IT</td>\n",
       "      <td>4</td>\n",
       "    </tr>\n",
       "    <tr>\n",
       "      <th>3</th>\n",
       "      <td>carnismo la psicologia del consumo di carne di...</td>\n",
       "      <td>IT</td>\n",
       "      <td>3</td>\n",
       "    </tr>\n",
       "    <tr>\n",
       "      <th>4</th>\n",
       "      <td>incomplete not scientific not ready for the ho...</td>\n",
       "      <td>IT</td>\n",
       "      <td>2</td>\n",
       "    </tr>\n",
       "    <tr>\n",
       "      <th>...</th>\n",
       "      <td>...</td>\n",
       "      <td>...</td>\n",
       "      <td>...</td>\n",
       "    </tr>\n",
       "    <tr>\n",
       "      <th>3995</th>\n",
       "      <td>యోగా ఈ సిడి సెట్‌లో ఎక్కడా కనిపించదు, యోగా మాత...</td>\n",
       "      <td>TE</td>\n",
       "      <td>0</td>\n",
       "    </tr>\n",
       "    <tr>\n",
       "      <th>3996</th>\n",
       "      <td>సువార్త కేంద్రీకృత తృప్తి కొంతమంది వ్యక్తులు మ...</td>\n",
       "      <td>TE</td>\n",
       "      <td>3</td>\n",
       "    </tr>\n",
       "    <tr>\n",
       "      <th>3997</th>\n",
       "      <td>మాకు ఏమి చేయకూడదని చెప్పడంలో పేలవంగా చెప్పటంలో...</td>\n",
       "      <td>TE</td>\n",
       "      <td>3</td>\n",
       "    </tr>\n",
       "    <tr>\n",
       "      <th>3998</th>\n",
       "      <td>నజీమ్ హిక్మెత్ వంటి అసాధారణ కవి నుండి వచ్చిన ప...</td>\n",
       "      <td>TE</td>\n",
       "      <td>4</td>\n",
       "    </tr>\n",
       "    <tr>\n",
       "      <th>3999</th>\n",
       "      <td>డార్క్ మాస్టర్ పీస్ జోసెఫ్ కాన్రాడ్ యొక్క అత్య...</td>\n",
       "      <td>TE</td>\n",
       "      <td>4</td>\n",
       "    </tr>\n",
       "  </tbody>\n",
       "</table>\n",
       "<p>4000 rows × 3 columns</p>\n",
       "</div>"
      ],
      "text/plain": [
       "                                                 review language label\n",
       "0     divertenti deliri marginali, una falsa afferma...       IT     0\n",
       "1     the enzyme treatment of cancer and its scienti...       IT     4\n",
       "2     un libro che trasuda passione per il Vangelo q...       IT     4\n",
       "3     carnismo la psicologia del consumo di carne di...       IT     3\n",
       "4     incomplete not scientific not ready for the ho...       IT     2\n",
       "...                                                 ...      ...   ...\n",
       "3995  యోగా ఈ సిడి సెట్‌లో ఎక్కడా కనిపించదు, యోగా మాత...       TE     0\n",
       "3996  సువార్త కేంద్రీకృత తృప్తి కొంతమంది వ్యక్తులు మ...       TE     3\n",
       "3997  మాకు ఏమి చేయకూడదని చెప్పడంలో పేలవంగా చెప్పటంలో...       TE     3\n",
       "3998  నజీమ్ హిక్మెత్ వంటి అసాధారణ కవి నుండి వచ్చిన ప...       TE     4\n",
       "3999  డార్క్ మాస్టర్ పీస్ జోసెఫ్ కాన్రాడ్ యొక్క అత్య...       TE     4\n",
       "\n",
       "[4000 rows x 3 columns]"
      ]
     },
     "execution_count": 18,
     "metadata": {},
     "output_type": "execute_result"
    }
   ],
   "source": [
    "tdf"
   ]
  },
  {
   "cell_type": "code",
   "execution_count": 19,
   "id": "53bed4da",
   "metadata": {},
   "outputs": [],
   "source": [
    "tdf.to_csv('/scratch/smanduru/NLP/project/data/amazon_2048/2048_multi_dev.tsv', sep = '\\t', index=False)"
   ]
  },
  {
   "cell_type": "code",
   "execution_count": null,
   "id": "99ecbb2b",
   "metadata": {},
   "outputs": [],
   "source": []
  }
 ],
 "metadata": {
  "kernelspec": {
   "display_name": "Python 3 (ORC)",
   "language": "python",
   "name": "sys_python3"
  },
  "language_info": {
   "codemirror_mode": {
    "name": "ipython",
    "version": 3
   },
   "file_extension": ".py",
   "mimetype": "text/x-python",
   "name": "python",
   "nbconvert_exporter": "python",
   "pygments_lexer": "ipython3",
   "version": "3.9.9"
  }
 },
 "nbformat": 4,
 "nbformat_minor": 5
}
